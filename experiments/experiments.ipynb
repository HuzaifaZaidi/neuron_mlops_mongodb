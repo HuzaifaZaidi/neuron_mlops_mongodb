{
 "cells": [
  {
   "cell_type": "code",
   "execution_count": null,
   "id": "66aadc8f",
   "metadata": {},
   "outputs": [
    {
     "name": "stdout",
     "output_type": "stream",
     "text": [
      "Pinged your deployment. You successfully connected to MongoDB!\n"
     ]
    }
   ],
   "source": [
    "\n",
    "from pymongo.mongo_client import MongoClient\n",
    "\n",
    "uri = \"mongodb+srv://huzaifaahmedzaidi:@cluster0.yipsi0i.mongodb.net/?retryWrites=true&w=majority&appName=Cluster0\"\n",
    "\n",
    "# Create a new client and connect to the server\n",
    "client = MongoClient(uri)\n",
    "\n",
    "# Send a ping to confirm a successful connection\n",
    "try:\n",
    "    client.admin.command('ping')\n",
    "    print(\"Pinged your deployment. You successfully connected to MongoDB!\")\n",
    "except Exception as e:\n",
    "    print(e)"
   ]
  },
  {
   "cell_type": "code",
   "execution_count": 7,
   "id": "fd2d8adc",
   "metadata": {},
   "outputs": [],
   "source": [
    "database=client['firstmongodbconnection']\n"
   ]
  },
  {
   "cell_type": "code",
   "execution_count": 8,
   "id": "15736e49",
   "metadata": {},
   "outputs": [],
   "source": [
    "collection=database['my_collection1']   "
   ]
  },
  {
   "cell_type": "code",
   "execution_count": 9,
   "id": "99c43ad6",
   "metadata": {},
   "outputs": [],
   "source": [
    "data={\n",
    "    \"name\":\"Huzaifa\",   \n",
    "    \"class\":\"mlops\",\n",
    "    \"subject\":[\"ML\",\"DL\",\"AI\"]\n",
    "}  "
   ]
  },
  {
   "cell_type": "code",
   "execution_count": 10,
   "id": "4cb6a9ab",
   "metadata": {},
   "outputs": [
    {
     "data": {
      "text/plain": [
       "InsertOneResult(ObjectId('68b5fb294e22c48385d8f755'), acknowledged=True)"
      ]
     },
     "execution_count": 10,
     "metadata": {},
     "output_type": "execute_result"
    }
   ],
   "source": [
    "collection.insert_one(data)"
   ]
  },
  {
   "cell_type": "code",
   "execution_count": 13,
   "id": "f185f7f5",
   "metadata": {},
   "outputs": [],
   "source": [
    "all_record=collection.find()"
   ]
  },
  {
   "cell_type": "code",
   "execution_count": 14,
   "id": "87deafe8",
   "metadata": {},
   "outputs": [
    {
     "name": "stdout",
     "output_type": "stream",
     "text": [
      "0 {'_id': ObjectId('68b5fb294e22c48385d8f755'), 'name': 'Huzaifa', 'class': 'mlops', 'subject': ['ML', 'DL', 'AI']}\n"
     ]
    }
   ],
   "source": [
    "for id, record in enumerate(all_record ):\n",
    "    print(id,record)"
   ]
  },
  {
   "cell_type": "code",
   "execution_count": 17,
   "id": "f18832b8",
   "metadata": {},
   "outputs": [
    {
     "data": {
      "text/plain": [
       "InsertManyResult([ObjectId('68b5fd844e22c48385d8f758'), ObjectId('68b5fd844e22c48385d8f759')], acknowledged=True)"
      ]
     },
     "execution_count": 17,
     "metadata": {},
     "output_type": "execute_result"
    }
   ],
   "source": [
    "collection.insert_many(\n",
    "    [\n",
    "        {\n",
    "            \"name\":\"Ahmed\",   \n",
    "            \"class\":\"Data science\",\n",
    "            \"subject\":[\"ML\",\"DL\",\"AI\"]\n",
    "        },\n",
    "        {\n",
    "            \"name\":\"Zaidi\",   \n",
    "            \"class\":\"M.tech\",\n",
    "            \"subject\":[\"Civil\"]\n",
    "        }\n",
    "    ]\n",
    ")"
   ]
  },
  {
   "cell_type": "code",
   "execution_count": 46,
   "id": "e7bef40f",
   "metadata": {},
   "outputs": [],
   "source": [
    "class mongodb_operation:\n",
    "    def __init__(self,client_url:str,database_name:str,collection_name:str=None):\n",
    "        self.client_url=client_url\n",
    "        self.database_name=database_name\n",
    "        self.collection_name=collection_name\n",
    "\n",
    "    def create_client(self):\n",
    "        client=MongoClient(self.client_url)\n",
    "        return client\n",
    "    \n",
    "    def create_database(self):\n",
    "        client=self.create_client()\n",
    "        database=client[self.database_name] \n",
    "        return database\n",
    "\n",
    "    \n",
    "    def create_collection(self, collection_name: str = None):\n",
    "        database = self.create_database()\n",
    "        collection_name = collection_name or self.collection_name\n",
    "        return database[collection_name]\n",
    "\n",
    "\n",
    "    def insert_record(self,record:dict,collection_name:str):\n",
    "        if type(record)==list:\n",
    "            for data in record:\n",
    "                if type(data)!=dict:\n",
    "                    raise TypeError(\"Each record should be in dictionary format\")\n",
    "            collection=self.create_collection(collection_name) \n",
    "            collection.insert_many(record)\n",
    "\n",
    "        elif type(record)==dict:\n",
    "            collection=self.create_collection(collection_name) \n",
    "            collection.insert_one(record)      \n",
    "\n",
    "    def bulk_insert(self,datafile:str,collection_name:str):\n",
    "        self.path=datafile\n",
    "\n",
    "        if self.path.endswith('csv'):\n",
    "            import pandas as pd\n",
    "            data=pd.read_csv(self.path,encoding='utf-8')\n",
    "        \n",
    "        elif self.path.endswith('xlsx'):\n",
    "            import pandas as pd\n",
    "            data=pd.read_excel(self.path)\n",
    "        \n",
    "        datajson=json.loads(data.to_json(orient='records'))\n",
    "        collection=self.create_collection()\n",
    "        collection.insert_many(datajson)\n",
    "\n",
    " \n",
    "\n",
    "    # def update_one(self,query,new_value):\n",
    "    #     self.collection.update_one(query,new_value)\n",
    "\n",
    "    # def delete_one(self,query):\n",
    "    #     self.collection.delete_one(query)"
   ]
  },
  {
   "cell_type": "code",
   "execution_count": null,
   "id": "2cd64e66",
   "metadata": {},
   "outputs": [],
   "source": [
    "client_url=\"mongodb+srv://huzaifaahmedzaidi:@cluster0.yipsi0i.mongodb.net/?retryWrites=true&w=majority&appName=Cluster0\"\n",
    "database_name=\"firstmongodbconnection\"\n",
    "collection_name=\"my_collection2\"\n",
    "mongo=mongodb_operation(\n",
    "    client_url,\n",
    "    database_name,\n",
    "    collection_name\n",
    ")"
   ]
  },
  {
   "cell_type": "code",
   "execution_count": null,
   "id": "84ab3e6e",
   "metadata": {},
   "outputs": [],
   "source": []
  },
  {
   "cell_type": "code",
   "execution_count": 51,
   "id": "17f51b5c",
   "metadata": {},
   "outputs": [],
   "source": [
    "mongo.insert_record(\n",
    "    [\n",
    "        {\n",
    "    \"name\":\"Neuron\",\"designation\":\"AI Engineer\",\"skills\":\"ML\"\n",
    "},\n",
    "{\"name\": \"Huzaifa\",\"designation\":\"Data Scientist\",\"skills\":\"ML\"}\n",
    "    ],collection_name)  "
   ]
  },
  {
   "cell_type": "code",
   "execution_count": 50,
   "id": "c9153a13",
   "metadata": {},
   "outputs": [],
   "source": [
    "mongo.insert_record({\n",
    "    \"name\":\"Neuron\",\"designation\":\"AI Engineer\",\"skills\":\"ML\"\n",
    "},collection_name)"
   ]
  }
 ],
 "metadata": {
  "kernelspec": {
   "display_name": "base",
   "language": "python",
   "name": "python3"
  },
  "language_info": {
   "codemirror_mode": {
    "name": "ipython",
    "version": 3
   },
   "file_extension": ".py",
   "mimetype": "text/x-python",
   "name": "python",
   "nbconvert_exporter": "python",
   "pygments_lexer": "ipython3",
   "version": "3.12.7"
  }
 },
 "nbformat": 4,
 "nbformat_minor": 5
}
